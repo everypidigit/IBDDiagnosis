{
 "cells": [
  {
   "cell_type": "code",
   "execution_count": null,
   "id": "098922bf-bfd6-47f6-b2c3-1c4e3567c3af",
   "metadata": {},
   "outputs": [],
   "source": [
    "import pandas as pd\n",
    "import numpy as np\n",
    "\n",
    "initDF = pd.read_csv(\"half_filled_phenotype_train.csv\")\n",
    "initDF.drop([\"Unnamed: 0\"], axis = 1, inplace = True)\n",
    "initDF"
   ]
  },
  {
   "cell_type": "markdown",
   "id": "48392e7d-48c2-4b81-990e-c879dcab037d",
   "metadata": {
    "tags": []
   },
   "source": [
    "# Doing the data preprocessing part first\n",
    "\n",
    "we will:\n",
    "\n",
    "1) drop id column\n",
    "2) encode CD and UD as 1 and 2, respectively\n",
    "3) scale data between -1 and 1\n",
    "4) deal with problematic data (< / >)"
   ]
  },
  {
   "cell_type": "code",
   "execution_count": null,
   "id": "7363e8ef-0df8-40aa-9b75-7eb814e13566",
   "metadata": {},
   "outputs": [],
   "source": [
    "idDF = initDF['PatientId']\n",
    "initDF.drop('PatientId', axis=1, inplace=True)\n",
    "initDF"
   ]
  },
  {
   "cell_type": "code",
   "execution_count": null,
   "id": "2243a642-7d0b-45ec-8a8b-84a44ed592d5",
   "metadata": {},
   "outputs": [],
   "source": [
    "initDF.groupby('Diag').size()"
   ]
  },
  {
   "cell_type": "code",
   "execution_count": null,
   "id": "254be844-ed15-4ccd-a89b-f39229c26558",
   "metadata": {},
   "outputs": [],
   "source": [
    "initDF.describe()"
   ]
  },
  {
   "cell_type": "markdown",
   "id": "842620d0-1f7b-43bd-8e1c-ff35e2fe9ba5",
   "metadata": {},
   "source": [
    "A 60/40 split.\n",
    "seems to be a pretty balanced dataset? "
   ]
  },
  {
   "cell_type": "code",
   "execution_count": null,
   "id": "e6c52cbe-586f-4feb-b63c-340b08808135",
   "metadata": {},
   "outputs": [],
   "source": [
    "# Number of missing values in each column of training data\n",
    "missing_val_count_by_column = (initDF.isnull().sum())\n",
    "# missing_val_count_by_column\n",
    "print(missing_val_count_by_column[missing_val_count_by_column > 0])"
   ]
  },
  {
   "cell_type": "code",
   "execution_count": null,
   "id": "5dec9405-80ee-480b-b629-c3fc8924f572",
   "metadata": {},
   "outputs": [],
   "source": [
    "from sklearn.preprocessing import StandardScaler, OneHotEncoder\n",
    "from sklearn.impute import SimpleImputer\n",
    "# from keras.wrappers.scikit_learn import KerasClassifier\n",
    "# from keras.models import Sequential\n",
    "# from keras.layers import Dense, Activation, Dropout\n",
    "# \n",
    "# from numpy.random import seed\n",
    "# from tensorflow import set_random_seed"
   ]
  },
  {
   "cell_type": "code",
   "execution_count": null,
   "id": "f7528182-5ed8-495a-ba48-a8825414061b",
   "metadata": {},
   "outputs": [],
   "source": [
    "initDF.replace(to_replace=\"CD\", value = 0, inplace=True )\n",
    "initDF.replace(to_replace=\"UC\", value = 1, inplace=True )\n",
    "\n",
    "initDF"
   ]
  },
  {
   "cell_type": "markdown",
   "id": "d6deda0b-370c-42ff-90eb-df17497a1362",
   "metadata": {},
   "source": [
    "### we have a problem in here: \n",
    "\n",
    "one of the columns (CRP) has values such as \"<1\" and \"<2\". We should replace them with just integers, though this means saturation and can be important."
   ]
  },
  {
   "cell_type": "code",
   "execution_count": null,
   "id": "9232be6a-e67b-4e40-aea4-d61eb171ea1d",
   "metadata": {},
   "outputs": [],
   "source": [
    "df = initDF.copy()\n",
    "df.dtypes"
   ]
  },
  {
   "cell_type": "code",
   "execution_count": null,
   "id": "bde2fb18-9ce9-4145-b89f-484df21c2948",
   "metadata": {},
   "outputs": [],
   "source": [
    "string_types = []\n",
    "\n",
    "for column in df.columns:\n",
    "    if df[column].dtype == \"object\":\n",
    "        print(column)\n",
    "        string_types.append(column)\n",
    "        df[column] = df[column].astype(\"string\")"
   ]
  },
  {
   "cell_type": "code",
   "execution_count": null,
   "id": "3fa465ab-07ae-49b0-b5fa-3df9fc594e36",
   "metadata": {
    "tags": []
   },
   "outputs": [],
   "source": [
    "for column in string_types:\n",
    "    df[column] = df[column].str.replace('<', '')\n",
    "    df[column] = df[column].str.replace('>', '')"
   ]
  },
  {
   "cell_type": "code",
   "execution_count": null,
   "id": "d14ae635-20aa-48fb-87d3-51dc7e5ea491",
   "metadata": {},
   "outputs": [],
   "source": [
    "for column in string_types:\n",
    "    if column in string_types:\n",
    "        print(column)\n",
    "        df[column] = df[column].astype(\"float64\")"
   ]
  },
  {
   "cell_type": "code",
   "execution_count": null,
   "id": "cd780656-7330-4a93-b64f-620c652197db",
   "metadata": {},
   "outputs": [],
   "source": [
    "df.dtypes"
   ]
  },
  {
   "cell_type": "code",
   "execution_count": null,
   "id": "9c0b1c8b-4a62-4504-a144-dda8d6b59306",
   "metadata": {},
   "outputs": [],
   "source": [
    "# simple func to input numerical \n",
    "\n",
    "imputer = SimpleImputer(strategy = \"mean\") \n",
    "df = pd.DataFrame(imputer.fit_transform(df))\n",
    "\n",
    "df.columns = initDF.columns"
   ]
  },
  {
   "cell_type": "code",
   "execution_count": null,
   "id": "c6669e03-b82a-4d9a-b3ff-02dcf644e728",
   "metadata": {},
   "outputs": [],
   "source": [
    "df.describe()"
   ]
  },
  {
   "cell_type": "markdown",
   "id": "ef756331-33e9-4ae3-a788-dff776f2a1d4",
   "metadata": {},
   "source": [
    "### I will additionally scale continuous variables from -1 to 1"
   ]
  },
  {
   "cell_type": "code",
   "execution_count": null,
   "id": "1d2a6bbd-4c48-4ae5-a8de-a6188002d3bf",
   "metadata": {},
   "outputs": [],
   "source": [
    "continuous = ['Height', 'Weight', 'AgeAtDiag', 'Leu', 'Hb', 'Hb', 'CRP', 'ESR', \"Fer\", \"B12\",\n",
    "             \"Fol\", \"Alk\", 'Alb']\n",
    "\n",
    "scaler = StandardScaler()\n",
    "\n",
    "for var in continuous:\n",
    "    df[var] = df[var].astype('float64')\n",
    "    df[var] = scaler.fit_transform(df[var].values.reshape(-1, 1))\n",
    "    \n",
    "df"
   ]
  },
  {
   "cell_type": "markdown",
   "id": "fbe46b04-251f-4173-9846-95e72ba42cf7",
   "metadata": {
    "tags": []
   },
   "source": [
    "# Do ML: Our data is preprocessed and we have already taken a holdoutDF"
   ]
  },
  {
   "cell_type": "code",
   "execution_count": null,
   "id": "85da17ba-616f-4544-88eb-24f70533dbac",
   "metadata": {},
   "outputs": [],
   "source": [
    "from sklearn.model_selection import train_test_split\n",
    "from sklearn.compose import ColumnTransformer\n",
    "from sklearn.pipeline import Pipeline\n",
    "from sklearn.metrics import f1_score\n",
    "\n",
    "import warnings\n",
    "warnings.filterwarnings(\"ignore\")"
   ]
  },
  {
   "cell_type": "code",
   "execution_count": null,
   "id": "6a7c3584-6410-4280-be7d-0cde6ac965af",
   "metadata": {},
   "outputs": [],
   "source": [
    "target = 'Diag'\n",
    "\n",
    "X = df.drop([target], axis=1)\n",
    "y = df[[target]]\n",
    "\n",
    "X_train, X_test, y_train, y_test = train_test_split(X, y, train_size=0.8, test_size=0.2,random_state=0)"
   ]
  },
  {
   "cell_type": "code",
   "execution_count": null,
   "id": "bfd392c8-9bcb-4989-8494-71b5a0becd28",
   "metadata": {},
   "outputs": [],
   "source": [
    "categorical_cols = []\n",
    "numerical_cols = []\n",
    "\n",
    "for column in X.columns:\n",
    "    if X[column].dtype == \"object\":\n",
    "        categorical_cols.append(column)\n",
    "    elif X[column].dtype in ['int64', 'float64']:\n",
    "        numerical_cols.append(column)      \n",
    "\n",
    "cols = categorical_cols + numerical_cols\n",
    "print(len(df.columns), len(cols))"
   ]
  },
  {
   "cell_type": "code",
   "execution_count": null,
   "id": "fd3bf8fc-ff4d-47f1-9bed-3dd2b2b66d02",
   "metadata": {
    "tags": []
   },
   "outputs": [],
   "source": [
    "# a function for rapid f1score prediction\n",
    "\n",
    "scores = []\n",
    "\n",
    "def get_f1_score(model):\n",
    "    model.fit(X_train, y_train)\n",
    "    preds = model.predict(X_test)\n",
    "    res = f1_score(y_test, preds, average=\"weighted\")\n",
    "    scores.append(res)\n",
    "    \n",
    "def clean_scores():\n",
    "    scores.clear()"
   ]
  },
  {
   "cell_type": "code",
   "execution_count": null,
   "id": "a7346432-3a46-4d95-8b66-359b9392145c",
   "metadata": {},
   "outputs": [],
   "source": [
    "# importing all the models we will be using\n",
    "\n",
    "from sklearn.linear_model import LogisticRegression\n",
    "from sklearn.ensemble import RandomForestClassifier\n",
    "from sklearn.neighbors import KNeighborsClassifier\n",
    "from sklearn.svm import SVC\n",
    "from sklearn.tree import DecisionTreeClassifier\n",
    "from sklearn.ensemble import AdaBoostClassifier\n",
    "from sklearn.ensemble import BaggingClassifier\n",
    "from sklearn.ensemble import VotingClassifier\n",
    "from sklearn.ensemble import GradientBoostingClassifier\n",
    "from xgboost import XGBClassifier"
   ]
  },
  {
   "cell_type": "code",
   "execution_count": null,
   "id": "522e49f5-d8ad-4e07-be47-f35cc2fe8667",
   "metadata": {},
   "outputs": [],
   "source": [
    "# defining our models\n",
    "RF = RandomForestClassifier()\n",
    "LR = LogisticRegression()\n",
    "KNN = KNeighborsClassifier()\n",
    "SVM = SVC(C=0.0001)\n",
    "DT = DecisionTreeClassifier()\n",
    "BGDT = BaggingClassifier(DecisionTreeClassifier())\n",
    "ADB = AdaBoostClassifier(DecisionTreeClassifier())\n",
    "GBD = GradientBoostingClassifier()\n",
    "EVCh = VotingClassifier(estimators=[('lr',LR),('rf',RF),('svm',SVM), (\"gbd\", GBD),(\"adb\",ADB), \n",
    "                                  (\"dt\",DT), (\"bgdt\", BGDT)],voting='hard')\n",
    "EVCs = VotingClassifier(estimators=[('lr',LR),('rf',RF), (\"gbd\", GBD),(\"adb\",ADB), \n",
    "                                  (\"dt\",DT), (\"bgdt\", BGDT)],voting='soft')\n",
    "\n",
    "models = [LR, KNN, SVM, DT, ADB , RF, BGDT, EVCh, EVCs, GBD]"
   ]
  },
  {
   "cell_type": "code",
   "execution_count": null,
   "id": "b5962a97-6d56-4bbc-ab07-dad4527ffb9b",
   "metadata": {
    "tags": []
   },
   "outputs": [],
   "source": [
    "for model in models:\n",
    "    get_f1_score(model)"
   ]
  },
  {
   "cell_type": "markdown",
   "id": "df5878ad-ef38-4f11-8b17-bbe8725c1896",
   "metadata": {},
   "source": [
    "### OK, we finally got some fucking predictions.\n",
    "\n",
    "I am losing my mind. Let's compute the F1 score now, I bet it is not good huh"
   ]
  },
  {
   "cell_type": "code",
   "execution_count": null,
   "id": "4d0444b4-529e-4a5e-9852-7c8538df5d68",
   "metadata": {},
   "outputs": [],
   "source": [
    "scores"
   ]
  },
  {
   "cell_type": "code",
   "execution_count": null,
   "id": "5afa3fd8-208c-4e9f-aea9-3c99c8e21ecc",
   "metadata": {},
   "outputs": [],
   "source": [
    "clean_scores()"
   ]
  },
  {
   "cell_type": "code",
   "execution_count": null,
   "id": "5d91992a-7fdb-44ec-8519-8a3edacafe06",
   "metadata": {},
   "outputs": [],
   "source": [
    "holdoutDF"
   ]
  },
  {
   "cell_type": "code",
   "execution_count": null,
   "id": "e8ea916a-d59d-4ec5-a307-212412964b1a",
   "metadata": {},
   "outputs": [],
   "source": [
    "X_holdout = holdoutDF.drop([target], axis=1)\n",
    "y_holdout = holdoutDF[[target]]"
   ]
  },
  {
   "cell_type": "code",
   "execution_count": null,
   "id": "8efd6de1-0513-4ac5-9932-1c00551fd501",
   "metadata": {},
   "outputs": [],
   "source": [
    "X_holdout"
   ]
  },
  {
   "cell_type": "markdown",
   "id": "88754bb7-fada-49b7-a64d-b534edb2662a",
   "metadata": {
    "tags": []
   },
   "source": [
    "# Starting tuning our models"
   ]
  },
  {
   "cell_type": "code",
   "execution_count": null,
   "id": "e1926adb-0cba-470e-9da2-623a9ce4d41f",
   "metadata": {},
   "outputs": [],
   "source": [
    "import pickle"
   ]
  },
  {
   "cell_type": "markdown",
   "id": "ba2a89be-022d-4e8d-b123-38e27aca782c",
   "metadata": {},
   "source": [
    "## Let's start with the decision trees"
   ]
  },
  {
   "cell_type": "code",
   "execution_count": null,
   "id": "ebe5f4e4-0c57-4bab-a9ae-c9a8191fe5ca",
   "metadata": {},
   "outputs": [],
   "source": [
    "from sklearn.model_selection import GridSearchCV, cross_val_score\n",
    "from sklearn.model_selection import RepeatedStratifiedKFold"
   ]
  },
  {
   "cell_type": "code",
   "execution_count": null,
   "id": "dfb2e0f8-9c74-4367-8eb2-c36a0e95b418",
   "metadata": {},
   "outputs": [],
   "source": [
    "results = []"
   ]
  },
  {
   "cell_type": "code",
   "execution_count": null,
   "id": "d19d5fb1-c8a6-40c8-9e5f-430da7e52ec5",
   "metadata": {},
   "outputs": [],
   "source": [
    "param_grid = {\n",
    "    \"n_estimators\": [10, 100],\n",
    "    \"max_depth\": [3, 7, 9],\n",
    "}"
   ]
  },
  {
   "cell_type": "markdown",
   "id": "f93cc479-e8b9-467b-8950-8ec2fe9d5b7e",
   "metadata": {},
   "source": [
    "RF = RandomForestClassifier() \n",
    "\n",
    "GBD = GradientBoostingClassifier()"
   ]
  },
  {
   "cell_type": "code",
   "execution_count": null,
   "id": "8d52e70c-94df-4d84-afe0-43cffcebdca2",
   "metadata": {},
   "outputs": [],
   "source": [
    "gridSearchModels = [RF]\n",
    "\n",
    "for model in gridSearchModels:\n",
    "\n",
    "    grid_search = GridSearchCV(model, param_grid, cv=5)\n",
    "    grid_search.fit(X_train, y_train)\n",
    "    best_model = grid_search.best_estimator_\n",
    "    \n",
    "    preds = best_model.predict(X_test)\n",
    "    res = f1_score(y_test, preds, average = \"weighted\")\n",
    "    print(res)\n",
    "\n",
    "    print(f\"Best Hyperparameters for {model}: {grid_search.best_params_}\")"
   ]
  },
  {
   "cell_type": "markdown",
   "id": "1cc3f1ce-776c-4f46-bf55-d9c7864e45e0",
   "metadata": {},
   "source": [
    "### other one for GBD"
   ]
  },
  {
   "cell_type": "code",
   "execution_count": null,
   "id": "8191232a-5b48-4176-bcf1-05aa038f6222",
   "metadata": {},
   "outputs": [],
   "source": [
    "n_estimators = [10, 100, 1000]\n",
    "learning_rate = [0.001, 0.01, 0.1]\n",
    "subsample = [0.5, 0.7, 1.0]\n",
    "max_depth = [3, 7, 9]"
   ]
  },
  {
   "cell_type": "code",
   "execution_count": null,
   "id": "b172f7fa-2eba-438f-bd4c-b63fc300197b",
   "metadata": {
    "tags": []
   },
   "outputs": [],
   "source": [
    "gridGBD = dict(learning_rate=learning_rate, n_estimators=n_estimators, subsample=subsample, max_depth=max_depth)\n",
    "cvGBD = RepeatedStratifiedKFold(n_splits=10, n_repeats=3, random_state=1)\n",
    "grid_searchGBD = GridSearchCV(GBD, gridGBD, n_jobs=-1, cv=cvGBD)\n",
    "grid_searchGBD.fit(X_train, np.ravel(y_train,order='C'))\n",
    "best_modelGBD = grid_searchGBD.best_estimator_\n",
    "\n",
    "predsGBD = best_modelGBD.predict(X_test)\n",
    "\n",
    "resGBD = f1_score(y_test, predsGBD, average = \"weighted\")"
   ]
  },
  {
   "cell_type": "code",
   "execution_count": null,
   "id": "08e2c4ca-1795-420f-a087-f620c0e6a929",
   "metadata": {},
   "outputs": [],
   "source": [
    "resGBD"
   ]
  },
  {
   "cell_type": "code",
   "execution_count": null,
   "id": "d55dfdb0-f662-4951-b549-7a07b8d839f0",
   "metadata": {},
   "outputs": [],
   "source": [
    "pklGBDt = \"GBDt.pkl\"\n",
    "\n",
    "with open(pklGBDt, \"wb\") as file:\n",
    "    pickle.dump(best_modelGBD, file)\n",
    "    \n",
    "with open(pklGBDt, 'rb') as file:\n",
    "    pkl_model = pickle.load(file)\n",
    "    \n",
    "pkl_model"
   ]
  },
  {
   "cell_type": "markdown",
   "id": "fac9f179-48ef-4e21-abd8-ec15cf15aa93",
   "metadata": {},
   "source": [
    "### other one for RF"
   ]
  },
  {
   "cell_type": "code",
   "execution_count": null,
   "id": "d9c1c6bd-ec2c-44e9-81bf-e804a81b9e5f",
   "metadata": {},
   "outputs": [],
   "source": [
    "n_estimators = [10, 100, 1000]\n",
    "max_features = ['sqrt', 'log2']"
   ]
  },
  {
   "cell_type": "code",
   "execution_count": null,
   "id": "1f497a87-472f-40ca-ac4b-b40dd6c32ea8",
   "metadata": {
    "tags": []
   },
   "outputs": [],
   "source": [
    "gridRF = dict(n_estimators=n_estimators,max_features=max_features)\n",
    "cvRF = RepeatedStratifiedKFold(n_splits=10, n_repeats=3, random_state=1)\n",
    "grid_searchRF = GridSearchCV(estimator=RF, param_grid=gridRF, n_jobs=-1, cv=cvRF, scoring='accuracy',error_score=0)\n",
    "grid_searchRF.fit(X_train, np.ravel(y_train,order='C'))\n",
    "best_modelRF = grid_searchRF.best_estimator_\n",
    "\n",
    "predsRF = best_modelRF.predict(X_test)\n",
    "\n",
    "resRF = f1_score(y_test, predsRF, average = \"weighted\")"
   ]
  },
  {
   "cell_type": "code",
   "execution_count": null,
   "id": "b7a4d850-77d6-438a-aa25-1a8365cb0753",
   "metadata": {},
   "outputs": [],
   "source": [
    "resRF"
   ]
  },
  {
   "cell_type": "markdown",
   "id": "a1f44d4c-28cc-4979-bad4-0db6ce29c586",
   "metadata": {},
   "source": [
    "## Trying a NN"
   ]
  },
  {
   "cell_type": "code",
   "execution_count": null,
   "id": "a0036436-d977-4d45-9a4e-de8d47ac81e0",
   "metadata": {},
   "outputs": [],
   "source": [
    "from keras.wrappers.scikit_learn import KerasClassifier\n",
    "from keras.models import Sequential\n",
    "from keras.layers import Dense, Activation, Dropout"
   ]
  },
  {
   "cell_type": "code",
   "execution_count": null,
   "id": "2262a345-2935-432d-baea-42abc842c78f",
   "metadata": {},
   "outputs": [],
   "source": [
    "def create_model(lyrs=[8], act='linear', opt='Adam', dr=0.0):\n",
    "    \n",
    "    model = Sequential()\n",
    "    \n",
    "    # create first hidden layer\n",
    "    model.add(Dense(lyrs[0], input_dim=X_train.shape[1], activation=act))\n",
    "    \n",
    "    # create additional hidden layers\n",
    "    for i in range(1,len(lyrs)):\n",
    "        model.add(Dense(lyrs[i], activation=act))\n",
    "    \n",
    "    # add dropout, default is none\n",
    "    model.add(Dropout(dr))\n",
    "    \n",
    "    # create output layer\n",
    "    model.add(Dense(1, activation='softmax'))  # output layer\n",
    "    \n",
    "    model.compile(loss='binary_crossentropy', optimizer=opt, metrics=['accuracy'])\n",
    "    \n",
    "    return model"
   ]
  },
  {
   "cell_type": "code",
   "execution_count": null,
   "id": "4059043d-efd2-4cc3-be34-a229694bf4a5",
   "metadata": {},
   "outputs": [],
   "source": [
    "NN = create_model()\n",
    "print(model.summary())"
   ]
  },
  {
   "cell_type": "code",
   "execution_count": null,
   "id": "2cec3ffd-318a-4036-9c8c-70d2f4d42069",
   "metadata": {},
   "outputs": [],
   "source": [
    "training = NN.fit(X_train, y_train, epochs=10, batch_size=32, validation_split=0.2, verbose=0)"
   ]
  },
  {
   "cell_type": "code",
   "execution_count": null,
   "id": "280501df-db5b-4cc1-be1e-f556a621934a",
   "metadata": {
    "tags": []
   },
   "outputs": [],
   "source": [
    "nnPreds = NN.predict(X_test)\n",
    "resNN = f1_score(y_test, nnPreds, average = \"weighted\")\n",
    "resNN"
   ]
  },
  {
   "cell_type": "markdown",
   "id": "64874539-7d41-4787-b01a-8b7718c708e0",
   "metadata": {},
   "source": [
    "## doing grid search"
   ]
  },
  {
   "cell_type": "code",
   "execution_count": null,
   "id": "99903008-e3ea-41ab-83a7-4404fa1d46db",
   "metadata": {},
   "outputs": [],
   "source": [
    "import matplotlib.pyplot as plt"
   ]
  },
  {
   "cell_type": "code",
   "execution_count": null,
   "id": "02481338-c368-451c-90b3-e8c98266692d",
   "metadata": {
    "tags": []
   },
   "outputs": [],
   "source": [
    "# create model\n",
    "model = KerasClassifier(build_fn=create_model, verbose=0)\n",
    "\n",
    "# define the grid search parameters\n",
    "batch_size = [16, 32, 64]\n",
    "epochs = [50, 100]\n",
    "param_grid = dict(batch_size=batch_size, epochs=epochs)\n",
    "\n",
    "# search the grid\n",
    "grid = GridSearchCV(estimator=model, \n",
    "                    param_grid=param_grid,\n",
    "                    cv=3,\n",
    "                    verbose=2)  # include n_jobs=-1 if you are using CPU\n",
    "\n",
    "grid_result = grid.fit(X_train, y_train)"
   ]
  },
  {
   "cell_type": "code",
   "execution_count": null,
   "id": "45a3717c-6225-47e1-8aae-bff5f8b40130",
   "metadata": {},
   "outputs": [],
   "source": [
    "NNGS = grid_result.best_estimator_\n",
    "NNGSpreds = NNGS.predict(X_test)\n",
    "resNNGS = f1_score(y_test, NNGSpreds, average = \"weighted\")\n",
    "resNNGS"
   ]
  },
  {
   "cell_type": "markdown",
   "id": "3fef98f9-ab5e-4b0d-98b8-94d59cb96f20",
   "metadata": {},
   "source": [
    "# XGB from big boys"
   ]
  },
  {
   "cell_type": "code",
   "execution_count": null,
   "id": "189072e5-e769-4728-8e4d-c12b9e86df81",
   "metadata": {},
   "outputs": [],
   "source": [
    "from xgboost import XGBClassifier\n",
    "from sklearn.model_selection import train_test_split\n",
    "from sklearn.metrics import roc_auc_score\n",
    "from sklearn.inspection import permutation_importance\n",
    "from sklearn.model_selection import learning_curve"
   ]
  },
  {
   "cell_type": "code",
   "execution_count": null,
   "id": "08ec0024-f806-41c0-9262-d8a4fb0140ef",
   "metadata": {},
   "outputs": [],
   "source": [
    "xgb = XGBClassifier(n_estimators=1190, \n",
    "                    objective='binary:logistic', \n",
    "                    learning_rate = 0.01, \n",
    "                    subsample = 0.5, \n",
    "                    colsample_bytree = 0.25,\n",
    "                    max_depth = 4\n",
    "                    )\n",
    "\n",
    "xgb.fit(X_train, y_train, verbose=100)\n",
    "XGBpreds = xgb.predict(X_test)\n",
    "resXGB = f1_score(y_test, XGBpreds, average = \"weighted\")\n",
    "resXGB"
   ]
  },
  {
   "cell_type": "code",
   "execution_count": null,
   "id": "04f5bf96-9450-475e-9e4c-6c9346abdd9e",
   "metadata": {},
   "outputs": [],
   "source": [
    "feature_importance = xgb.feature_importances_\n",
    "sorted_idx = np.argsort(feature_importance)[::-1]\n",
    "features = X.columns"
   ]
  },
  {
   "cell_type": "code",
   "execution_count": null,
   "id": "59e7845f-d75d-4307-9e33-34023db1821a",
   "metadata": {},
   "outputs": [],
   "source": [
    "import seaborn as sns"
   ]
  },
  {
   "cell_type": "code",
   "execution_count": null,
   "id": "6d4c8cfc-6941-454d-a013-c0f4ccd905c6",
   "metadata": {},
   "outputs": [],
   "source": [
    "plt.figure(figsize=(10, 6))\n",
    "sns.barplot(x=feature_importance[sorted_idx], y=np.array(features)[sorted_idx], palette='GnBu_r')\n",
    "plt.xlabel(\"Importance\")\n",
    "plt.ylabel(\"Features\")\n",
    "plt.title(\"XGBoost Feature Importance\")\n",
    "plt.xticks(rotation='vertical')\n",
    "plt.show()"
   ]
  },
  {
   "cell_type": "markdown",
   "id": "1a3af14a-dbef-4ab5-b437-8e08fbd652d0",
   "metadata": {
    "tags": []
   },
   "source": [
    "## Tuning logistic regression"
   ]
  },
  {
   "cell_type": "code",
   "execution_count": null,
   "id": "f5c5a204-747f-4b2d-83ca-940fb9a0508f",
   "metadata": {},
   "outputs": [],
   "source": [
    "LRt = LogisticRegression()\n",
    "\n",
    "solvers = ['newton-cg', 'lbfgs', 'liblinear']\n",
    "penalty = ['l2']\n",
    "c_values = [100, 10, 1.0, 0.1, 0.01, 0.001]"
   ]
  },
  {
   "cell_type": "code",
   "execution_count": null,
   "id": "8b165c96-8093-4945-ab7a-57d78478128c",
   "metadata": {
    "tags": []
   },
   "outputs": [],
   "source": [
    "gridLRt = dict(solver=solvers,penalty=penalty,C=c_values)\n",
    "cvLRt = RepeatedStratifiedKFold(n_splits=10, n_repeats=3, random_state=1)\n",
    "grid_searchLRt = GridSearchCV(estimator=LRt, param_grid=gridLRt, n_jobs=-1, cv=cvLRt)\n",
    "grid_searchLRt.fit(X_train, np.ravel(y_train,order='C'))\n",
    "best_modelLRt = grid_searchLRt.best_estimator_\n",
    "\n",
    "predsLRt = best_modelLRt.predict(X_test)\n",
    "\n",
    "resLRt = f1_score(y_test, predsLRt, average = \"weighted\")"
   ]
  },
  {
   "cell_type": "code",
   "execution_count": null,
   "id": "18d87de0-464e-4e91-9f4f-6e40701700bd",
   "metadata": {},
   "outputs": [],
   "source": [
    "resLRt"
   ]
  },
  {
   "cell_type": "markdown",
   "id": "99f7a7f0-e50a-473d-8698-b97a02c0836a",
   "metadata": {
    "tags": []
   },
   "source": [
    "## Creating and tuning a KR"
   ]
  },
  {
   "cell_type": "code",
   "execution_count": null,
   "id": "bb88264b-6f32-4ec5-b04c-0c48c252b15b",
   "metadata": {},
   "outputs": [],
   "source": [
    "from sklearn.linear_model import RidgeClassifier"
   ]
  },
  {
   "cell_type": "code",
   "execution_count": null,
   "id": "97f076cf-7dc4-4c17-a529-49586992a58e",
   "metadata": {},
   "outputs": [],
   "source": [
    "RC = RidgeClassifier()\n",
    "alpha = [0.1, 0.2, 0.3, 0.4, 0.5, 0.6, 0.7, 0.8, 0.9, 1.0]"
   ]
  },
  {
   "cell_type": "code",
   "execution_count": null,
   "id": "94699833-bb4f-4d9e-ad54-087c28a9629b",
   "metadata": {
    "tags": []
   },
   "outputs": [],
   "source": [
    "gridRC = dict(alpha = alpha)\n",
    "cvRC = RepeatedStratifiedKFold(n_splits=10, n_repeats=3, random_state=1)\n",
    "grid_searchRC = GridSearchCV(estimator=RC, param_grid=gridRC, n_jobs=-1, cv=cvRC)\n",
    "grid_searchRC.fit(X_train, np.ravel(y_train,order='C'))\n",
    "best_modelRC = grid_searchRC.best_estimator_\n",
    "\n",
    "predsRC = best_modelRC.predict(X_test)\n",
    "\n",
    "resRC = f1_score(y_test, predsRC, average = \"weighted\")"
   ]
  },
  {
   "cell_type": "code",
   "execution_count": null,
   "id": "d28ee0c7-a889-4baf-a017-8ce2f804b42a",
   "metadata": {},
   "outputs": [],
   "source": [
    "resRC"
   ]
  },
  {
   "cell_type": "markdown",
   "id": "c92f62f8-cf4e-403a-92ba-473bb0ce4286",
   "metadata": {
    "tags": []
   },
   "source": [
    "## Tuning a KNN "
   ]
  },
  {
   "cell_type": "code",
   "execution_count": null,
   "id": "19726449-a194-4e73-9bfd-b51f137d332b",
   "metadata": {},
   "outputs": [],
   "source": [
    "KNNt = KNeighborsClassifier()\n",
    "n_neighbors = range(1, 21, 2)\n",
    "weights = ['uniform', 'distance']\n",
    "metric = ['euclidean', 'manhattan', 'minkowski']"
   ]
  },
  {
   "cell_type": "code",
   "execution_count": null,
   "id": "a64d7c09-8881-4454-b11e-dc9760944587",
   "metadata": {
    "tags": []
   },
   "outputs": [],
   "source": [
    "gridKNNt = dict(n_neighbors = n_neighbors,weights = weights, metric = metric)\n",
    "cvKNNt = RepeatedStratifiedKFold(n_splits=10, n_repeats=3, random_state=1)\n",
    "grid_searchKNNt = GridSearchCV(estimator=KNNt, param_grid=gridKNNt, n_jobs=-1, cv=cvKNNt)\n",
    "grid_searchKNNt.fit(X_train, np.ravel(y_train,order='C'))\n",
    "best_modelKNNt = grid_searchKNNt.best_estimator_\n",
    "\n",
    "predsKNNt = best_modelKNNt.predict(X_test)\n",
    "\n",
    "resKNNt = f1_score(y_test, predsKNNt, average = \"weighted\")"
   ]
  },
  {
   "cell_type": "code",
   "execution_count": null,
   "id": "b6692fc6-2ef1-4ea5-b7c8-46fb773c6e26",
   "metadata": {},
   "outputs": [],
   "source": [
    "resKNNt"
   ]
  },
  {
   "cell_type": "markdown",
   "id": "77c2c273-5b15-4bee-bd53-5a6a568300a0",
   "metadata": {
    "tags": []
   },
   "source": [
    "## Tuning SVM\n",
    "\n",
    "No use, is bad"
   ]
  },
  {
   "cell_type": "code",
   "execution_count": null,
   "id": "d84ca73f-9ec8-441f-926b-21b54eb5c29f",
   "metadata": {},
   "outputs": [],
   "source": [
    "SVMt = SVC()\n",
    "kernel = ['poly', 'rbf', 'sigmoid']\n",
    "C = [50, 10, 1.0, 0.1, 0.01]"
   ]
  },
  {
   "cell_type": "code",
   "execution_count": null,
   "id": "b2fcaf1b-5752-430d-9a48-b55b98dac055",
   "metadata": {
    "tags": []
   },
   "outputs": [],
   "source": [
    "gridSVM = dict(kernel = kernel,C=C)\n",
    "cvSVM = RepeatedStratifiedKFold(n_splits=10, n_repeats=3, random_state=1)\n",
    "grid_searchSVM = GridSearchCV(estimator=SVMt, param_grid=gridSVM, n_jobs=-1, cv=cvSVM)\n",
    "grid_searchSVM.fit(X_train, np.ravel(y_train,order='C'))\n",
    "best_modelSVM = grid_searchSVM.best_estimator_\n",
    "\n",
    "predsSVM = best_modelSVM.predict(X_test)\n",
    "\n",
    "resSVM = f1_score(y_test, predsSVM, average = \"weighted\")"
   ]
  },
  {
   "cell_type": "code",
   "execution_count": null,
   "id": "5f2fc832-863b-4ae4-b010-795c20884ac7",
   "metadata": {},
   "outputs": [],
   "source": [
    "resSVM"
   ]
  },
  {
   "cell_type": "markdown",
   "id": "8372afb1-1de2-4f5f-801d-a34033967dd1",
   "metadata": {
    "tags": []
   },
   "source": [
    "# Making predictions"
   ]
  },
  {
   "cell_type": "code",
   "execution_count": null,
   "id": "abbaf21b",
   "metadata": {
    "tags": []
   },
   "outputs": [],
   "source": [
    "testDF = pd.read_csv(\"half_filled_phenotype_test.csv\")\n",
    "testDF.drop([\"Unnamed: 0\"], axis = 1, inplace = True)\n",
    "testDF"
   ]
  },
  {
   "cell_type": "code",
   "execution_count": null,
   "id": "d24be754",
   "metadata": {
    "tags": []
   },
   "outputs": [],
   "source": [
    "df1 = testDF.copy()\n",
    "df1.dtypes"
   ]
  },
  {
   "cell_type": "code",
   "execution_count": null,
   "id": "b6bc793e",
   "metadata": {},
   "outputs": [],
   "source": [
    "string_types = []\n",
    "\n",
    "for column in df1.columns:\n",
    "    if df1[column].dtype == \"object\":\n",
    "        print(column)\n",
    "        string_types.append(column)\n",
    "        df1[column] = df1[column].astype(\"string\")"
   ]
  },
  {
   "cell_type": "code",
   "execution_count": null,
   "id": "13947b35",
   "metadata": {
    "tags": []
   },
   "outputs": [],
   "source": [
    "for column in string_types:\n",
    "    df1[column] = df1[column].str.replace('<', '')\n",
    "    df1[column] = df1[column].str.replace('>', '')\n",
    "\n",
    "for column in string_types:\n",
    "    if column in string_types:\n",
    "        print(column)\n",
    "        df1[column] = df1[column].astype(\"float64\")\n",
    "df1.dtypes"
   ]
  },
  {
   "cell_type": "code",
   "execution_count": null,
   "id": "5cc1097a",
   "metadata": {
    "tags": []
   },
   "outputs": [],
   "source": [
    "# simple func to input numerical \n",
    "\n",
    "imputer = SimpleImputer(strategy = \"mean\") \n",
    "df1 = pd.DataFrame(imputer.fit_transform(df1))\n",
    "\n",
    "df1.columns = testDF.columns\n",
    "\n",
    "df1"
   ]
  },
  {
   "cell_type": "code",
   "execution_count": null,
   "id": "c21b3757",
   "metadata": {
    "tags": []
   },
   "outputs": [],
   "source": [
    "continuous = ['Height', 'Weight', 'AgeAtDiag', 'Leu', 'Hb', 'Hb', 'CRP', 'ESR', \"Fer\", \"B12\",\n",
    "             \"Fol\", \"Alk\", 'Alb']\n",
    "\n",
    "scaler = StandardScaler()\n",
    "\n",
    "for var in continuous:\n",
    "    df1[var] = df1[var].astype('float64')\n",
    "    df1[var] = scaler.fit_transform(df1[var].values.reshape(-1, 1))\n",
    "    \n",
    "df1"
   ]
  },
  {
   "cell_type": "code",
   "execution_count": null,
   "id": "b45a4018",
   "metadata": {},
   "outputs": [],
   "source": [
    "df1.drop(\"ID_new\", axis = 1, inplace = True)"
   ]
  },
  {
   "cell_type": "code",
   "execution_count": null,
   "id": "0f2ed6e8",
   "metadata": {},
   "outputs": [],
   "source": [
    "df1.shape"
   ]
  },
  {
   "cell_type": "code",
   "execution_count": null,
   "id": "d23afcf1-d0c0-44fb-a187-5d4549c7788b",
   "metadata": {},
   "outputs": [],
   "source": [
    "catboost_model"
   ]
  },
  {
   "cell_type": "code",
   "execution_count": null,
   "id": "388f5dce",
   "metadata": {},
   "outputs": [],
   "source": [
    "subm_preds = xgb.predict(df1)"
   ]
  },
  {
   "cell_type": "code",
   "execution_count": null,
   "id": "9267967a",
   "metadata": {},
   "outputs": [],
   "source": [
    "submissionAmina = pd.DataFrame()\n",
    "submissionAmina['PatientId'] = testDF[\"ID_new\"]\n",
    "submissionAmina['Diag'] = subm_preds\n",
    "submissionAmina['Diag'] = submissionAmina['Diag'].astype(\"int\")"
   ]
  },
  {
   "cell_type": "code",
   "execution_count": null,
   "id": "6e8edb19",
   "metadata": {
    "tags": []
   },
   "outputs": [],
   "source": [
    "submissionAmina.to_csv(\"subManual.csv\", index = False)\n",
    "submissionAmina"
   ]
  }
 ],
 "metadata": {
  "kernelspec": {
   "display_name": "Python 3 (ipykernel)",
   "language": "python",
   "name": "python3"
  },
  "language_info": {
   "codemirror_mode": {
    "name": "ipython",
    "version": 3
   },
   "file_extension": ".py",
   "mimetype": "text/x-python",
   "name": "python",
   "nbconvert_exporter": "python",
   "pygments_lexer": "ipython3",
   "version": "3.9.16"
  }
 },
 "nbformat": 4,
 "nbformat_minor": 5
}
